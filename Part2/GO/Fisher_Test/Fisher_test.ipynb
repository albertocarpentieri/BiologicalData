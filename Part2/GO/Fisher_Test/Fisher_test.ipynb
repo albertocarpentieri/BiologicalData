{
 "cells": [
  {
   "cell_type": "code",
   "execution_count": 1,
   "metadata": {},
   "outputs": [
    {
     "data": {
      "text/html": [
       "<div>\n",
       "<style scoped>\n",
       "    .dataframe tbody tr th:only-of-type {\n",
       "        vertical-align: middle;\n",
       "    }\n",
       "\n",
       "    .dataframe tbody tr th {\n",
       "        vertical-align: top;\n",
       "    }\n",
       "\n",
       "    .dataframe thead th {\n",
       "        text-align: right;\n",
       "    }\n",
       "</style>\n",
       "<table border=\"1\" class=\"dataframe\">\n",
       "  <thead>\n",
       "    <tr style=\"text-align: right;\">\n",
       "      <th></th>\n",
       "      <th>Entry</th>\n",
       "      <th>GO_id</th>\n",
       "      <th>Go_description</th>\n",
       "      <th>Length</th>\n",
       "      <th>Pfam_domains</th>\n",
       "    </tr>\n",
       "  </thead>\n",
       "  <tbody>\n",
       "    <tr>\n",
       "      <th>0</th>\n",
       "      <td>Q8TE23</td>\n",
       "      <td>0016021</td>\n",
       "      <td>integral component of membrane</td>\n",
       "      <td>839</td>\n",
       "      <td>PF00003;PF01094;PF07562;</td>\n",
       "    </tr>\n",
       "    <tr>\n",
       "      <th>1</th>\n",
       "      <td>Q8TE23</td>\n",
       "      <td>0005887</td>\n",
       "      <td>integral component of plasma membrane</td>\n",
       "      <td>839</td>\n",
       "      <td>PF00003;PF01094;PF07562;</td>\n",
       "    </tr>\n",
       "    <tr>\n",
       "      <th>2</th>\n",
       "      <td>Q8TE23</td>\n",
       "      <td>0005886</td>\n",
       "      <td>plasma membrane</td>\n",
       "      <td>839</td>\n",
       "      <td>PF00003;PF01094;PF07562;</td>\n",
       "    </tr>\n",
       "    <tr>\n",
       "      <th>3</th>\n",
       "      <td>Q8TE23</td>\n",
       "      <td>0043235</td>\n",
       "      <td>receptor complex</td>\n",
       "      <td>839</td>\n",
       "      <td>PF00003;PF01094;PF07562;</td>\n",
       "    </tr>\n",
       "    <tr>\n",
       "      <th>4</th>\n",
       "      <td>Q8TE23</td>\n",
       "      <td>1903767</td>\n",
       "      <td>sweet taste receptor complex</td>\n",
       "      <td>839</td>\n",
       "      <td>PF00003;PF01094;PF07562;</td>\n",
       "    </tr>\n",
       "  </tbody>\n",
       "</table>\n",
       "</div>"
      ],
      "text/plain": [
       "    Entry    GO_id                           Go_description Length  \\\n",
       "0  Q8TE23  0016021          integral component of membrane     839   \n",
       "1  Q8TE23  0005887   integral component of plasma membrane     839   \n",
       "2  Q8TE23  0005886                         plasma membrane     839   \n",
       "3  Q8TE23  0043235                        receptor complex     839   \n",
       "4  Q8TE23  1903767            sweet taste receptor complex     839   \n",
       "\n",
       "               Pfam_domains  \n",
       "0  PF00003;PF01094;PF07562;  \n",
       "1  PF00003;PF01094;PF07562;  \n",
       "2  PF00003;PF01094;PF07562;  \n",
       "3  PF00003;PF01094;PF07562;  \n",
       "4  PF00003;PF01094;PF07562;  "
      ]
     },
     "execution_count": 1,
     "metadata": {},
     "output_type": "execute_result"
    }
   ],
   "source": [
    "import pandas as pd\n",
    "import numpy as np\n",
    "with open('Original_dataset.txt','r') as o:\n",
    "    original_dataset = pd.read_csv(o, header = None)\n",
    "original_proteins = set(original_dataset[0])\n",
    "\n",
    "with open('GO_human_dataset','r') as o:\n",
    "    human_GO_ds = pd.read_csv(o, index_col=0, dtype = str)\n",
    "human_GO_ds.head()"
   ]
  },
  {
   "cell_type": "code",
   "execution_count": 56,
   "metadata": {},
   "outputs": [],
   "source": [
    "def get_GO_ids(human_GO_ds, proteins):\n",
    "    # slice of human ds considering just 'proteins' entries\n",
    "    original_GO_ds = human_GO_ds[human_GO_ds['Entry'].isin(original_proteins)]\n",
    "    # put the GO_ids in a set\n",
    "    original_GO_ids = set(list(original_GO_ds['GO_id'].values))\n",
    "    # removing nans\n",
    "    original_GO_ids.remove(np.nan)\n",
    "    return original_GO_ids\n",
    "\n",
    "def get_frequencies(human_GO_ds, GO_ids, proteins):\n",
    "    sliced_GO_ds = human_GO_ds[human_GO_ds['Entry'].isin(proteins)]\n",
    "    GO_frequencies = {}\n",
    "    for GO_id in GO_ids:\n",
    "        GO_frequencies[GO_id] = len(sliced_GO_ds[sliced_GO_ds['GO_id'] == GO_id])\n",
    "    return GO_frequencies\n",
    "\n",
    "def get_all_proteins(human_GO_ds):\n",
    "    return set(list(human_GO_ds['Entry'].values))\n",
    "\n",
    "def remove_blank_space(string):\n",
    "    while string[0] == ' ':\n",
    "        string = string[1:]\n",
    "    \n",
    "    while string[-1] == ' ':\n",
    "        string = string[:-1]\n",
    "    return string\n",
    "\n",
    "def get_description(GO_id, human_GO_ds):\n",
    "    descs = set(list(human_GO_ds[human_GO_ds['GO_id'] == GO_id]['Go_description'].values))\n",
    "    final_descs = []\n",
    "    for d in descs:\n",
    "        final_descs.append(remove_blank_space(d))\n",
    "    \n",
    "    return final_descs[0]\n",
    "    "
   ]
  },
  {
   "cell_type": "code",
   "execution_count": 15,
   "metadata": {},
   "outputs": [],
   "source": [
    "# test\n",
    "human_proteins = get_all_proteins(human_GO_ds)\n",
    "original_GO_ids =  get_GO_ids(human_GO_ds, proteins = original_proteins)\n",
    "original_frequences = get_frequencies(human_GO_ds, GO_ids = original_GO_ids, proteins = original_proteins)\n",
    "# for the human frequences we count the appearences of the same GO_ids also in different proteins\n",
    "human_frequences = get_frequencies(human_GO_ds, GO_ids = original_GO_ids, proteins = human_proteins)"
   ]
  },
  {
   "cell_type": "code",
   "execution_count": 17,
   "metadata": {},
   "outputs": [
    {
     "name": "stdout",
     "output_type": "stream",
     "text": [
      "True\n"
     ]
    }
   ],
   "source": [
    "print(len(human_frequences) == len(original_frequences))"
   ]
  },
  {
   "cell_type": "code",
   "execution_count": 58,
   "metadata": {},
   "outputs": [],
   "source": [
    "from scipy.stats import fisher_exact\n",
    "\n",
    "n_original_proteins = len(original_proteins)\n",
    "n_human_proteins = len(human_proteins)\n",
    "Fisher_test_stats = {}\n",
    "Fisher_test_stats['GO_id'] = []\n",
    "Fisher_test_stats['Original_freq'] = []\n",
    "Fisher_test_stats['Human_freq'] = []\n",
    "Fisher_test_stats['Odds_ratio'] = []\n",
    "Fisher_test_stats['p-value'] = []\n",
    "Fisher_test_stats['GO_description'] = []\n",
    "\n",
    "for GO_id in original_GO_ids:\n",
    "    mat = np.array([[original_frequences[GO_id], n_original_proteins - original_frequences[GO_id]],\n",
    "                    [human_frequences[GO_id], n_human_proteins - human_frequences[GO_id]]])\n",
    "    GO_desc = get_description(GO_id, human_GO_ds)\n",
    "    odds_ratio,pvalue = fisher_exact(mat)\n",
    "    Fisher_test_stats['GO_description'].append(GO_desc)\n",
    "    Fisher_test_stats['GO_id'].append(GO_id)\n",
    "    Fisher_test_stats['Original_freq'].append(original_frequences[GO_id])\n",
    "    Fisher_test_stats['Human_freq'].append(human_frequences[GO_id])\n",
    "    Fisher_test_stats['Odds_ratio'].append(odds_ratio)\n",
    "    Fisher_test_stats['p-value'].append(pvalue)\n",
    "Fisher_results = pd.DataFrame(Fisher_test_stats)"
   ]
  },
  {
   "cell_type": "code",
   "execution_count": 60,
   "metadata": {},
   "outputs": [],
   "source": [
    "Fisher_results.to_csv('HMM_original_ds_fresults.txt')"
   ]
  }
 ],
 "metadata": {
  "kernelspec": {
   "display_name": "Python 3",
   "language": "python",
   "name": "python3"
  },
  "language_info": {
   "codemirror_mode": {
    "name": "ipython",
    "version": 3
   },
   "file_extension": ".py",
   "mimetype": "text/x-python",
   "name": "python",
   "nbconvert_exporter": "python",
   "pygments_lexer": "ipython3",
   "version": "3.7.5"
  }
 },
 "nbformat": 4,
 "nbformat_minor": 4
}
