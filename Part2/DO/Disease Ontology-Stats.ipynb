{
 "cells": [
  {
   "cell_type": "code",
   "execution_count": 712,
   "metadata": {},
   "outputs": [],
   "source": [
    "#import libraries\n",
    "from Bio import SeqIO\n",
    "from scipy.stats import fisher_exact\n",
    "import pandas as pd\n",
    "import copy\n",
    "import json\n",
    "import gzip\n",
    "import requests\n",
    "import sys\n",
    "import matplotlib.pyplot as plt\n",
    "from wordcloud import WordCloud, get_single_color_func\n",
    "\n"
   ]
  },
  {
   "cell_type": "code",
   "execution_count": 713,
   "metadata": {},
   "outputs": [],
   "source": [
    "# Loading DO ontology obo file and anazlyzing the architecture\n",
    "Doid_obo = \"C:/Users/Hp/Desktop/Data Science/Third Semester/Bioligical Data/Project/BiologicalData-master/datasets/doid.obo\"\n",
    "with open(Doid_obo) as ontology:\n",
    "    labels, ancestors, min_depth = disease_ontology(ontology)"
   ]
  },
  {
   "cell_type": "code",
   "execution_count": 714,
   "metadata": {},
   "outputs": [],
   "source": [
    "#loading uniprot_do dataset with associated terms\n",
    "Do_Uniprot = 'C:/Users/Hp/Desktop/Data Science/Third Semester/Bioligical Data/Project/BiologicalData-master/datasets//uniprot_do.json'\n",
    "with open(Do_Uniprot) as file:\n",
    "    uniprot_protein = json.load(file)\n"
   ]
  },
  {
   "cell_type": "code",
   "execution_count": 715,
   "metadata": {},
   "outputs": [],
   "source": [
    "def disease_ontology(ontology):\n",
    "     # dictionary with do ids and their objects\n",
    "    do = {} \n",
    "    obj = {}\n",
    "    # obj:  { id: do_id, name: definition, xref: list_of_omim_ids, is_a: list_of_parents, is_obsolete: True } \n",
    "    for line in ontology:\n",
    "        line = line.strip().split(\": \")\n",
    "        if line and len(line) == 2:\n",
    "            k, v = line\n",
    "            if k == \"id\" and v.startswith(\"DOID:\"):\n",
    "                obj[\"id\"] = v.split(\":\")[1]\n",
    "            elif k == \"xref\" and \"OMIM\" in v:\n",
    "                obj[\"omim\"] = v.split(\":\")[1]\n",
    "            elif k == \"name\":\n",
    "                obj[\"name\"] = v\n",
    "            elif k == \"is_a\":\n",
    "                obj.setdefault(\"is_a\", []).append(v.split()[0].split(\":\")[1])\n",
    "            elif k == \"is_obsolete\":\n",
    "                obj[\"is_obsolete\"] = True\n",
    "        else:\n",
    "            if obj.get(\"id\") and not obj.get(\"is_obsolete\"):\n",
    "                do[obj[\"id\"]] = obj\n",
    "            obj = {}\n",
    "        \n",
    "    # For each node, we make the dictionary of ancestors and the depth\n",
    "    tag, anc, depth = ancestors_dict(do)\n",
    "    \n",
    "    return tag, anc, depth\n"
   ]
  },
  {
   "cell_type": "code",
   "execution_count": 716,
   "metadata": {},
   "outputs": [],
   "source": [
    "def ancestors_dict(do):\n",
    "    \n",
    "    #Finding ancestors and depth for each node and storing the values in seperate dictionaries\n",
    "    \n",
    "    ancestors = {}  #  term : set of all ancestors\n",
    "    parents = {}\n",
    "    depth = {}\n",
    "    labels = {}\n",
    "    for node in do:\n",
    "        c = 0\n",
    "        node_ancestors = []\n",
    "        node_parents = do[node].get(\"is_a\")\n",
    "        labels[node] = do[node].get(\"name\")\n",
    "        if node_parents != None:\n",
    "            parents[node] = node_parents\n",
    "        else:\n",
    "            parents[node] = []\n",
    "            \n",
    "        while node_parents:\n",
    "            c += 1\n",
    "            node_ancestors.extend(node_parents)\n",
    "            if \"4\" in node_parents:  \n",
    "                depth[node] = c\n",
    "            node_parents = [term for parent in node_parents for term in do[parent].get(\"is_a\", [])]\n",
    "        ancestors[node] = set(node_ancestors)\n",
    "    \n",
    "    \n",
    "    depth = find_min_depth(list(do.keys()), parents)\n",
    "     \n",
    "    return labels, ancestors, depth"
   ]
  },
  {
   "cell_type": "code",
   "execution_count": 717,
   "metadata": {},
   "outputs": [],
   "source": [
    "def find_min_depth(nodes, parents):   \n",
    "    \n",
    "    #Calculating the minimum depth of each term i.e for each term calculate its distance from the root\n",
    "    \n",
    "    depth = {} \n",
    "    roots = set(nodes) - set(parents.keys())\n",
    "    for node in nodes:\n",
    "        c = 0   \n",
    "        node_parents = parents.get(node)\n",
    "        while node_parents:\n",
    "            c += 1\n",
    "            if roots.intersection(set(node_parents)):  \n",
    "                break\n",
    "            \n",
    "            node_parents = [term for parent in node_parents for term in parents.get(parent, [])]\n",
    "        depth[node] = c\n",
    "    return depth\n"
   ]
  },
  {
   "cell_type": "code",
   "execution_count": 718,
   "metadata": {},
   "outputs": [],
   "source": [
    "def do_fisher_test(ds_c, bg_c, depth, l):\n",
    "    \n",
    "    #running fisher's test to find pvalue for enrichment\n",
    "    \n",
    "    results = {}  #dictionary for final results { Oddratio, pvalue }\n",
    "    \n",
    "    # Get the total number of values\n",
    "    total_d = sum(list(ds_c.values()))\n",
    "    total_bg = sum(list(bg_c.values()))\n",
    "    \n",
    "    #find the same keys in both datasets\n",
    "    key_intersection = set(ds_c.keys()).intersection(set(bg_c.keys()))\n",
    "    \n",
    "    for key in key_intersection:\n",
    "        # Count of similar do terms in the main dataset\n",
    "        x = ds_c[key]\n",
    "        \n",
    "        # Count of the similar do terms in background dataset\n",
    "        y = bg_c[key]\n",
    "        \n",
    "        # Count of do terms that are different from the same ones in ds_c\n",
    "        not_x = total_d - x\n",
    "        \n",
    "        # Count of do terms that are different from the same ones in bg_c\n",
    "        not_y = total_bg - y\n",
    "        \n",
    "        # Perform Fisher Exact Test\n",
    "        fisher_stats = fisher_exact([[x, y],[not_x, not_y]])\n",
    "        \n",
    "        # save results in a dictionary\n",
    "        results.setdefault(key, {'OddRatio': fisher_stats[0], 'pvalue': fisher_stats[1]})\n",
    "    \n",
    "    \n",
    "    # return dataframe of results\n",
    "    return pd.DataFrame(results).transpose()"
   ]
  },
  {
   "cell_type": "code",
   "execution_count": 719,
   "metadata": {},
   "outputs": [],
   "source": [
    "def depth_details(df, min_depth, labels):\n",
    "    \n",
    "    #Add columns for depth and description in results \n",
    "    \n",
    "    l_list= []   \n",
    "    depth_list = []\n",
    "    for key in df.index:             # for all the keys in dataframe, associate label and depth values\n",
    "        l_list.append(labels[key])\n",
    "        depth_list.append(min_depth[key])\n",
    "    \n",
    "    df['depth'] = depth_list        #add depth column in dataframe\n",
    "    df['label'] = l_list            #add label column in dataframe\n",
    "\n",
    "    return df"
   ]
  },
  {
   "cell_type": "code",
   "execution_count": 720,
   "metadata": {},
   "outputs": [],
   "source": [
    "def draw_word_cloud(df, score='OddRatio', N=20, N_under_represented=0, under_represented=False, scale=2.0):\n",
    "    df_wcloud= df[:N]\n",
    "    wcloud = WordCloud(background_color='black', width=2000, max_words=80, collocations=False,height=800)\n",
    "    wcloud.generate_from_frequencies({line['label']: line[score] for _, line in df_wcloud.iterrows()})\n",
    "    return wcloud\n"
   ]
  },
  {
   "cell_type": "code",
   "execution_count": 721,
   "metadata": {},
   "outputs": [],
   "source": [
    "def count_ancestors(protein_list, ancestors, uni_protein):\n",
    "    \n",
    "    #Count the number of ancestors for a list of proteins\n",
    "    counts = {}\n",
    "\n",
    "    # finding the intersection between dataset and uniprot_protein keys\n",
    "   \n",
    "    for protein in set(protein_list).intersection(set(uni_protein.keys())):\n",
    "        annotations = set(uni_protein[protein])\n",
    "        terms_ancestors = copy.copy(annotations)  # annotations and ancestor terms\n",
    "        \n",
    "        for z in annotations:  # directly annotated terms\n",
    "            terms_ancestors.update(set(ancestors.get(z, [])))  # add ancestors\n",
    "            \n",
    "        for z in terms_ancestors:\n",
    "            counts.setdefault(z, 0)\n",
    "            counts[z] += 1\n",
    "        \n",
    "    return counts"
   ]
  },
  {
   "cell_type": "markdown",
   "metadata": {},
   "source": [
    "### A: ORIGINAL DATASET VS SWISSPROT HUMAN PROTEOME"
   ]
  },
  {
   "cell_type": "code",
   "execution_count": 722,
   "metadata": {},
   "outputs": [],
   "source": [
    "#load original dataset\n",
    "Original = \"C:/Users/Hp/Desktop/Data Science/Third Semester/Bioligical Data/Project/BiologicalData-master/datasets/Original_dataset5.txt\"\n",
    "with open(Original) as f:\n",
    "    dataset = f.read().splitlines()"
   ]
  },
  {
   "cell_type": "code",
   "execution_count": 723,
   "metadata": {},
   "outputs": [],
   "source": [
    "#load background dataset: entire human proteome available in SwissProt.\n",
    "human = SeqIO.parse('C:/Users/Hp/Desktop/Data Science/Third Semester/Bioligical Data/Project/BiologicalData-master/datasets/uniprot-reviewed_Homo_sapiens.fasta','fasta')\n",
    "background = []\n",
    "for sequence in human:\n",
    "    name = sequence.id \n",
    "    background.append(name.split('|')[1])"
   ]
  },
  {
   "cell_type": "markdown",
   "metadata": {},
   "source": [
    "#### Calculate Statistics"
   ]
  },
  {
   "cell_type": "code",
   "execution_count": 724,
   "metadata": {},
   "outputs": [
    {
     "data": {
      "text/html": [
       "<div>\n",
       "<style scoped>\n",
       "    .dataframe tbody tr th:only-of-type {\n",
       "        vertical-align: middle;\n",
       "    }\n",
       "\n",
       "    .dataframe tbody tr th {\n",
       "        vertical-align: top;\n",
       "    }\n",
       "\n",
       "    .dataframe thead th {\n",
       "        text-align: right;\n",
       "    }\n",
       "</style>\n",
       "<table border=\"1\" class=\"dataframe\">\n",
       "  <thead>\n",
       "    <tr style=\"text-align: right;\">\n",
       "      <th></th>\n",
       "      <th>OddRatio</th>\n",
       "      <th>pvalue</th>\n",
       "    </tr>\n",
       "  </thead>\n",
       "  <tbody>\n",
       "    <tr>\n",
       "      <th>2247</th>\n",
       "      <td>310.846821</td>\n",
       "      <td>0.006412</td>\n",
       "    </tr>\n",
       "    <tr>\n",
       "      <th>0080010</th>\n",
       "      <td>310.846821</td>\n",
       "      <td>0.006412</td>\n",
       "    </tr>\n",
       "    <tr>\n",
       "      <th>0080325</th>\n",
       "      <td>103.614644</td>\n",
       "      <td>0.012784</td>\n",
       "    </tr>\n",
       "    <tr>\n",
       "      <th>4990</th>\n",
       "      <td>77.710621</td>\n",
       "      <td>0.015954</td>\n",
       "    </tr>\n",
       "    <tr>\n",
       "      <th>0050678</th>\n",
       "      <td>62.168208</td>\n",
       "      <td>0.019114</td>\n",
       "    </tr>\n",
       "  </tbody>\n",
       "</table>\n",
       "</div>"
      ],
      "text/plain": [
       "           OddRatio    pvalue\n",
       "2247     310.846821  0.006412\n",
       "0080010  310.846821  0.006412\n",
       "0080325  103.614644  0.012784\n",
       "4990      77.710621  0.015954\n",
       "0050678   62.168208  0.019114"
      ]
     },
     "execution_count": 724,
     "metadata": {},
     "output_type": "execute_result"
    }
   ],
   "source": [
    "# perform fisher exact test\n",
    "dataset_c = count_ancestors(dataset, ancestors,uniprot_protein)\n",
    "background_c = count_ancestors(background, ancestors, uniprot_protein)\n",
    "\n",
    "result = do_fisher_test(dataset_c, background_c, min_depth, labels)\n",
    "result.sort_values(by = \"OddRatio\", ascending=False, inplace=True)\n",
    "\n",
    "result.head()"
   ]
  },
  {
   "cell_type": "code",
   "execution_count": 725,
   "metadata": {},
   "outputs": [
    {
     "data": {
      "text/html": [
       "<div>\n",
       "<style scoped>\n",
       "    .dataframe tbody tr th:only-of-type {\n",
       "        vertical-align: middle;\n",
       "    }\n",
       "\n",
       "    .dataframe tbody tr th {\n",
       "        vertical-align: top;\n",
       "    }\n",
       "\n",
       "    .dataframe thead th {\n",
       "        text-align: right;\n",
       "    }\n",
       "</style>\n",
       "<table border=\"1\" class=\"dataframe\">\n",
       "  <thead>\n",
       "    <tr style=\"text-align: right;\">\n",
       "      <th></th>\n",
       "      <th>OddRatio</th>\n",
       "      <th>pvalue</th>\n",
       "      <th>depth</th>\n",
       "      <th>label</th>\n",
       "    </tr>\n",
       "  </thead>\n",
       "  <tbody>\n",
       "    <tr>\n",
       "      <th>2247</th>\n",
       "      <td>310.846821</td>\n",
       "      <td>0.006412</td>\n",
       "      <td>7</td>\n",
       "      <td>spondylosis</td>\n",
       "    </tr>\n",
       "    <tr>\n",
       "      <th>0080010</th>\n",
       "      <td>310.846821</td>\n",
       "      <td>0.006412</td>\n",
       "      <td>6</td>\n",
       "      <td>bone structure disease</td>\n",
       "    </tr>\n",
       "    <tr>\n",
       "      <th>0080325</th>\n",
       "      <td>103.614644</td>\n",
       "      <td>0.012784</td>\n",
       "      <td>6</td>\n",
       "      <td>tuberous sclerosis 2</td>\n",
       "    </tr>\n",
       "    <tr>\n",
       "      <th>4990</th>\n",
       "      <td>77.710621</td>\n",
       "      <td>0.015954</td>\n",
       "      <td>6</td>\n",
       "      <td>essential tremor</td>\n",
       "    </tr>\n",
       "    <tr>\n",
       "      <th>0050678</th>\n",
       "      <td>62.168208</td>\n",
       "      <td>0.019114</td>\n",
       "      <td>5</td>\n",
       "      <td>Blau syndrome</td>\n",
       "    </tr>\n",
       "  </tbody>\n",
       "</table>\n",
       "</div>"
      ],
      "text/plain": [
       "           OddRatio    pvalue  depth                   label\n",
       "2247     310.846821  0.006412      7             spondylosis\n",
       "0080010  310.846821  0.006412      6  bone structure disease\n",
       "0080325  103.614644  0.012784      6    tuberous sclerosis 2\n",
       "4990      77.710621  0.015954      6        essential tremor\n",
       "0050678   62.168208  0.019114      5           Blau syndrome"
      ]
     },
     "execution_count": 725,
     "metadata": {},
     "output_type": "execute_result"
    }
   ],
   "source": [
    "# add depth and description columns\n",
    "frame = depth_details(df = result,min_depth = min_depth, labels = labels)\n",
    "frame.head()"
   ]
  },
  {
   "cell_type": "code",
   "execution_count": 726,
   "metadata": {},
   "outputs": [
    {
     "data": {
      "text/html": [
       "<div>\n",
       "<style scoped>\n",
       "    .dataframe tbody tr th:only-of-type {\n",
       "        vertical-align: middle;\n",
       "    }\n",
       "\n",
       "    .dataframe tbody tr th {\n",
       "        vertical-align: top;\n",
       "    }\n",
       "\n",
       "    .dataframe thead th {\n",
       "        text-align: right;\n",
       "    }\n",
       "</style>\n",
       "<table border=\"1\" class=\"dataframe\">\n",
       "  <thead>\n",
       "    <tr style=\"text-align: right;\">\n",
       "      <th></th>\n",
       "      <th>OddRatio</th>\n",
       "      <th>pvalue</th>\n",
       "      <th>depth</th>\n",
       "      <th>label</th>\n",
       "    </tr>\n",
       "  </thead>\n",
       "  <tbody>\n",
       "    <tr>\n",
       "      <th>0050678</th>\n",
       "      <td>62.168208</td>\n",
       "      <td>0.019114</td>\n",
       "      <td>5</td>\n",
       "      <td>Blau syndrome</td>\n",
       "    </tr>\n",
       "    <tr>\n",
       "      <th>0050855</th>\n",
       "      <td>23.909960</td>\n",
       "      <td>0.044033</td>\n",
       "      <td>4</td>\n",
       "      <td>renal fibrosis</td>\n",
       "    </tr>\n",
       "    <tr>\n",
       "      <th>0050830</th>\n",
       "      <td>4.797298</td>\n",
       "      <td>0.010827</td>\n",
       "      <td>5</td>\n",
       "      <td>peripheral artery disease</td>\n",
       "    </tr>\n",
       "    <tr>\n",
       "      <th>3393</th>\n",
       "      <td>4.299282</td>\n",
       "      <td>0.007109</td>\n",
       "      <td>5</td>\n",
       "      <td>coronary artery disease</td>\n",
       "    </tr>\n",
       "    <tr>\n",
       "      <th>0050828</th>\n",
       "      <td>2.459944</td>\n",
       "      <td>0.039048</td>\n",
       "      <td>4</td>\n",
       "      <td>artery disease</td>\n",
       "    </tr>\n",
       "  </tbody>\n",
       "</table>\n",
       "</div>"
      ],
      "text/plain": [
       "          OddRatio    pvalue  depth                      label\n",
       "0050678  62.168208  0.019114      5              Blau syndrome\n",
       "0050855  23.909960  0.044033      4             renal fibrosis\n",
       "0050830   4.797298  0.010827      5  peripheral artery disease\n",
       "3393      4.299282  0.007109      5    coronary artery disease\n",
       "0050828   2.459944  0.039048      4             artery disease"
      ]
     },
     "execution_count": 726,
     "metadata": {},
     "output_type": "execute_result"
    }
   ],
   "source": [
    "# filter all the results by depth and alpha\n",
    "alpha=0.05\n",
    "filter_terms = (frame[\"depth\"] <= 5) & (frame[\"pvalue\"] <= alpha)\n",
    "frame[filter_terms].head()"
   ]
  },
  {
   "cell_type": "code",
   "execution_count": 727,
   "metadata": {},
   "outputs": [
    {
     "data": {
      "image/png": "[encoded data removed]",
      "text/plain": [
       "<Figure size 720x720 with 1 Axes>"
      ]
     },
     "metadata": {
      "needs_background": "light"
     },
     "output_type": "display_data"
    }
   ],
   "source": [
    "N = 50\n",
    "word_cloud = draw_word_cloud(df = frame[filter_terms],N = N,score = 'OddRatio')\n",
    "plt.figure(figsize=(10, 10))\n",
    "plt.imshow(word_cloud)\n",
    "plt.axis(\"off\")\n",
    "plt.show()"
   ]
  },
  {
   "cell_type": "markdown",
   "metadata": {},
   "source": [
    "### B: Architectures datasets - The original dataset"
   ]
  },
  {
   "cell_type": "code",
   "execution_count": 728,
   "metadata": {},
   "outputs": [],
   "source": [
    "# load file containing architectures datasets\n",
    "with open(\"C:/Users/Hp/Desktop/Data Science/Third Semester/Bioligical Data/Project/BiologicalData-master/datasets/architecture_datasets.json\") as f:\n",
    "    arch_dataset = json.load(f)"
   ]
  },
  {
   "cell_type": "code",
   "execution_count": 729,
   "metadata": {},
   "outputs": [],
   "source": [
    "#load original file as background dataset\n",
    "Original = \"C:/Users/Hp/Desktop/Data Science/Third Semester/Bioligical Data/Project/BiologicalData-master/datasets/Original_dataset5.txt\"\n",
    "with open(Original) as f:\n",
    "    dataset = f.read().splitlines()"
   ]
  },
  {
   "cell_type": "code",
   "execution_count": 730,
   "metadata": {},
   "outputs": [],
   "source": [
    "background_c = count_ancestors(dataset, ancestors, uniprot_protein)"
   ]
  },
  {
   "cell_type": "code",
   "execution_count": 731,
   "metadata": {},
   "outputs": [],
   "source": [
    "# we take datasets containing at least 2 sequences\n",
    "MIN_SIZE = 2 \n",
    "\n",
    "results = {}\n",
    "filtered_results = {}\n",
    "\n",
    "for key in arch_dataset:\n",
    "    \n",
    "    current_dataset = arch_dataset[key]\n",
    "    \n",
    "    if len(current_dataset) >= MIN_SIZE:\n",
    "        dataset_c = count_ancestors(current_dataset, ancestors, uniprot_protein)\n",
    "\n",
    "        # call fisher's exact test\n",
    "        result_fisher = do_fisher_test(dataset_c, background_c, min_depth, labels)\n",
    "        result_fisher.sort_values(by = \"OddRatio\", ascending=False, inplace=True)\n",
    "\n",
    "        result = depth_details(\n",
    "            df = result_fisher,\n",
    "            min_depth = min_depth, \n",
    "            labels = labels )\n",
    "        results[key] = result\n",
    "        \n",
    "        # filter by alpha\n",
    "        alpha = 0.1\n",
    "        filter_terms = (result[\"pvalue\"] <= alpha)\n",
    "        filtered_results[key] = result[filter_terms]"
   ]
  },
  {
   "cell_type": "code",
   "execution_count": 732,
   "metadata": {},
   "outputs": [
    {
     "data": {
      "image/png": "[encoded data removed]",
      "text/plain": [
       "<Figure size 720x720 with 1 Axes>"
      ]
     },
     "metadata": {
      "needs_background": "light"
     },
     "output_type": "display_data"
    },
    {
     "data": {
      "image/png": "[encoded data removed]",
      "text/plain": [
       "<Figure size 720x720 with 1 Axes>"
      ]
     },
     "metadata": {
      "needs_background": "light"
     },
     "output_type": "display_data"
    },
    {
     "data": {
      "image/png": "[encoded data removed]",
      "text/plain": [
       "<Figure size 720x720 with 1 Axes>"
      ]
     },
     "metadata": {
      "needs_background": "light"
     },
     "output_type": "display_data"
    }
   ],
   "source": [
    "# draw wordcloud\n",
    "for key in filtered_results:  \n",
    "    if filtered_results[key].shape[0] > 0:\n",
    "        word_c= draw_word_cloud(df = filtered_results[key],score = 'OddRatio')\n",
    "        plt.figure(figsize=(10,10))\n",
    "        plt.title(key)\n",
    "        plt.imshow(word_c)\n",
    "        plt.axis(\"off\")\n",
    "        plt.show()\n",
    "        "
   ]
  },
  {
   "cell_type": "markdown",
   "metadata": {},
   "source": [
    "### C: PDB network - All human PDB proteins available in SwissProt (intersection)"
   ]
  },
  {
   "cell_type": "code",
   "execution_count": 733,
   "metadata": {},
   "outputs": [],
   "source": [
    "#load PDB file\n",
    "PDB_PATH= \"C:/Users/Hp/Desktop/Data Science/Third Semester/Bioligical Data/Project/BiologicalData-master/datasets/PDB_dataset.txt\"\n",
    "dataset_df = pd.read_csv(PDB_PATH,header=None,names=[\"sp_primary\"])\n",
    "\n",
    "# make dataset for unique proteins\n",
    "dataset = dataset_df.sp_primary.unique()"
   ]
  },
  {
   "cell_type": "code",
   "execution_count": 734,
   "metadata": {},
   "outputs": [],
   "source": [
    "# dataset with human sequences in swissprot\n",
    "human_dataset_path = 'C:/Users/Hp/Desktop/Data Science/Third Semester/Bioligical Data/Project/BiologicalData-master/datasets/uniprot-reviewed_Homo_sapiens.fasta'"
   ]
  },
  {
   "cell_type": "markdown",
   "metadata": {},
   "source": [
    "#### Create background dataframe, all PDB proteins in swissprot"
   ]
  },
  {
   "cell_type": "code",
   "execution_count": 735,
   "metadata": {},
   "outputs": [],
   "source": [
    "def getListHumans(path):\n",
    "    human_dataset = SeqIO.parse(path, 'fasta')\n",
    "    list_human = []\n",
    "    for sequence in human_dataset:\n",
    "        name = sequence.id # name is in the form sp|P46108|CRK_HUMAN\n",
    "        list_human.append(name.split('|')[1])\n",
    "    return list_human"
   ]
  },
  {
   "cell_type": "code",
   "execution_count": 736,
   "metadata": {},
   "outputs": [],
   "source": [
    "#get list of human sequences in swissprot\n",
    "list_human = getListHumans(human_dataset_path)"
   ]
  },
  {
   "cell_type": "code",
   "execution_count": 737,
   "metadata": {},
   "outputs": [
    {
     "data": {
      "text/html": [
       "<div>\n",
       "<style scoped>\n",
       "    .dataframe tbody tr th:only-of-type {\n",
       "        vertical-align: middle;\n",
       "    }\n",
       "\n",
       "    .dataframe tbody tr th {\n",
       "        vertical-align: top;\n",
       "    }\n",
       "\n",
       "    .dataframe thead th {\n",
       "        text-align: right;\n",
       "    }\n",
       "</style>\n",
       "<table border=\"1\" class=\"dataframe\">\n",
       "  <thead>\n",
       "    <tr style=\"text-align: right;\">\n",
       "      <th></th>\n",
       "      <th>pdb</th>\n",
       "      <th>chain</th>\n",
       "      <th>sp_primary</th>\n",
       "      <th>res_beg</th>\n",
       "      <th>res_end</th>\n",
       "      <th>pdb_beg</th>\n",
       "      <th>pdb_end</th>\n",
       "      <th>sp_beg</th>\n",
       "      <th>sp_end</th>\n",
       "    </tr>\n",
       "  </thead>\n",
       "  <tbody>\n",
       "    <tr>\n",
       "      <th>0</th>\n",
       "      <td>101m</td>\n",
       "      <td>A</td>\n",
       "      <td>P02185</td>\n",
       "      <td>1</td>\n",
       "      <td>154</td>\n",
       "      <td>0</td>\n",
       "      <td>153</td>\n",
       "      <td>1</td>\n",
       "      <td>154</td>\n",
       "    </tr>\n",
       "    <tr>\n",
       "      <th>1</th>\n",
       "      <td>102l</td>\n",
       "      <td>A</td>\n",
       "      <td>P00720</td>\n",
       "      <td>1</td>\n",
       "      <td>40</td>\n",
       "      <td>1</td>\n",
       "      <td>40</td>\n",
       "      <td>1</td>\n",
       "      <td>40</td>\n",
       "    </tr>\n",
       "    <tr>\n",
       "      <th>2</th>\n",
       "      <td>102l</td>\n",
       "      <td>A</td>\n",
       "      <td>P00720</td>\n",
       "      <td>42</td>\n",
       "      <td>165</td>\n",
       "      <td>41</td>\n",
       "      <td>None</td>\n",
       "      <td>41</td>\n",
       "      <td>164</td>\n",
       "    </tr>\n",
       "    <tr>\n",
       "      <th>3</th>\n",
       "      <td>102m</td>\n",
       "      <td>A</td>\n",
       "      <td>P02185</td>\n",
       "      <td>1</td>\n",
       "      <td>154</td>\n",
       "      <td>0</td>\n",
       "      <td>153</td>\n",
       "      <td>1</td>\n",
       "      <td>154</td>\n",
       "    </tr>\n",
       "    <tr>\n",
       "      <th>4</th>\n",
       "      <td>103l</td>\n",
       "      <td>A</td>\n",
       "      <td>P00720</td>\n",
       "      <td>1</td>\n",
       "      <td>40</td>\n",
       "      <td>1</td>\n",
       "      <td>None</td>\n",
       "      <td>1</td>\n",
       "      <td>40</td>\n",
       "    </tr>\n",
       "  </tbody>\n",
       "</table>\n",
       "</div>"
      ],
      "text/plain": [
       "    pdb chain sp_primary  res_beg  res_end pdb_beg pdb_end  sp_beg  sp_end\n",
       "0  101m     A     P02185        1      154       0     153       1     154\n",
       "1  102l     A     P00720        1       40       1      40       1      40\n",
       "2  102l     A     P00720       42      165      41    None      41     164\n",
       "3  102m     A     P02185        1      154       0     153       1     154\n",
       "4  103l     A     P00720        1       40       1    None       1      40"
      ]
     },
     "execution_count": 737,
     "metadata": {},
     "output_type": "execute_result"
    }
   ],
   "source": [
    "#Import pdb - uniprot relation file\n",
    "PDB_UNIPROT = \"C:/Users/Hp/Desktop/Data Science/Third Semester/Bioligical Data/Project/BiologicalData-master/datasets/pdb_chain_uniprot_5.csv\"\n",
    "pdb_uni = pd.read_csv(PDB_UNIPROT,header=0)\n",
    "pdb_uni=pd.DataFrame(pdb_rel)\n",
    "\n",
    "#convert column names into smaller letters\n",
    "pdb_uni.columns = list(map(lambda x: x.lower(), pdb_uni.columns.values))\n",
    "pdb_uni.head()\n"
   ]
  },
  {
   "cell_type": "code",
   "execution_count": 738,
   "metadata": {},
   "outputs": [
    {
     "name": "stdout",
     "output_type": "stream",
     "text": [
      "6742\n"
     ]
    }
   ],
   "source": [
    "#find similar values in both datasets to create intersection\n",
    "pdb_bg = pdb_uni.loc[pdb_uni.sp_primary.isin(list_human),['pdb','sp_primary','chain','sp_beg','sp_end']].copy()\n",
    "bg_dataset = pdb_bg.sp_primary.unique()\n",
    "print(len(bg_dataset))"
   ]
  },
  {
   "cell_type": "markdown",
   "metadata": {},
   "source": [
    "#### Calculate Statistics"
   ]
  },
  {
   "cell_type": "code",
   "execution_count": 739,
   "metadata": {},
   "outputs": [],
   "source": [
    "# count the anchestors for each sequence of the dataset\n",
    "dataset_c = count_ancestors(dataset, ancestors, uniprot_protein)\n",
    "background_c = count_ancestors(bg_dataset, ancestors, uniprot_protein)"
   ]
  },
  {
   "cell_type": "code",
   "execution_count": 740,
   "metadata": {},
   "outputs": [
    {
     "data": {
      "text/html": [
       "<div>\n",
       "<style scoped>\n",
       "    .dataframe tbody tr th:only-of-type {\n",
       "        vertical-align: middle;\n",
       "    }\n",
       "\n",
       "    .dataframe tbody tr th {\n",
       "        vertical-align: top;\n",
       "    }\n",
       "\n",
       "    .dataframe thead th {\n",
       "        text-align: right;\n",
       "    }\n",
       "</style>\n",
       "<table border=\"1\" class=\"dataframe\">\n",
       "  <thead>\n",
       "    <tr style=\"text-align: right;\">\n",
       "      <th></th>\n",
       "      <th>OddRatio</th>\n",
       "      <th>pvalue</th>\n",
       "      <th>depth</th>\n",
       "      <th>label</th>\n",
       "    </tr>\n",
       "  </thead>\n",
       "  <tbody>\n",
       "    <tr>\n",
       "      <th>0080010</th>\n",
       "      <td>97.866412</td>\n",
       "      <td>0.020146</td>\n",
       "      <td>6</td>\n",
       "      <td>bone structure disease</td>\n",
       "    </tr>\n",
       "    <tr>\n",
       "      <th>2059</th>\n",
       "      <td>97.866412</td>\n",
       "      <td>0.020146</td>\n",
       "      <td>4</td>\n",
       "      <td>vulvar disease</td>\n",
       "    </tr>\n",
       "    <tr>\n",
       "      <th>1294</th>\n",
       "      <td>97.866412</td>\n",
       "      <td>0.020146</td>\n",
       "      <td>7</td>\n",
       "      <td>vulva carcinoma</td>\n",
       "    </tr>\n",
       "    <tr>\n",
       "      <th>0080366</th>\n",
       "      <td>97.866412</td>\n",
       "      <td>0.020146</td>\n",
       "      <td>6</td>\n",
       "      <td>desmoid tumor</td>\n",
       "    </tr>\n",
       "    <tr>\n",
       "      <th>1245</th>\n",
       "      <td>97.866412</td>\n",
       "      <td>0.020146</td>\n",
       "      <td>6</td>\n",
       "      <td>vulva cancer</td>\n",
       "    </tr>\n",
       "  </tbody>\n",
       "</table>\n",
       "</div>"
      ],
      "text/plain": [
       "          OddRatio    pvalue  depth                   label\n",
       "0080010  97.866412  0.020146      6  bone structure disease\n",
       "2059     97.866412  0.020146      4          vulvar disease\n",
       "1294     97.866412  0.020146      7         vulva carcinoma\n",
       "0080366  97.866412  0.020146      6           desmoid tumor\n",
       "1245     97.866412  0.020146      6            vulva cancer"
      ]
     },
     "execution_count": 740,
     "metadata": {},
     "output_type": "execute_result"
    }
   ],
   "source": [
    "result_fisher = do_fisher_test(dataset_c, background_c, min_depth, labels)\n",
    "result_fisher.sort_values(by = \"OddRatio\", ascending=False, inplace=True)\n",
    "result = depth_details(df = result_fisher,min_depth = min_depth, labels = labels)\n",
    "result.head()"
   ]
  },
  {
   "cell_type": "code",
   "execution_count": 741,
   "metadata": {},
   "outputs": [
    {
     "name": "stdout",
     "output_type": "stream",
     "text": [
      "<class 'pandas.core.frame.DataFrame'>\n",
      "Index: 17 entries, 2059 to 225\n",
      "Data columns (total 4 columns):\n",
      "OddRatio    17 non-null float64\n",
      "pvalue      17 non-null float64\n",
      "depth       17 non-null int64\n",
      "label       17 non-null object\n",
      "dtypes: float64(2), int64(1), object(1)\n",
      "memory usage: 680.0+ bytes\n"
     ]
    }
   ],
   "source": [
    "# filter by depth and pvalue\n",
    "filter_terms = (result[\"depth\"] <= 5) & (result[\"pvalue\"] <= 0.05)\n",
    "result[filter_terms].info()"
   ]
  },
  {
   "cell_type": "code",
   "execution_count": 742,
   "metadata": {},
   "outputs": [
    {
     "data": {
      "image/png": "[encoded data removed]",
      "text/plain": [
       "<Figure size 720x720 with 1 Axes>"
      ]
     },
     "metadata": {
      "needs_background": "light"
     },
     "output_type": "display_data"
    }
   ],
   "source": [
    "# Num of words to be drawn\n",
    "N = 20\n",
    "word_c = draw_word_cloud(df = result[filter_terms],N = N, score = 'OddRatio')\n",
    "plt.figure(figsize=(10, 10))\n",
    "plt.imshow(word_c)\n",
    "plt.axis(\"off\")\n",
    "plt.show()"
   ]
  },
  {
   "cell_type": "markdown",
   "metadata": {},
   "source": [
    "### D: STRING network - All human proteins available in STRING and SwissProt (intersection)"
   ]
  },
  {
   "cell_type": "code",
   "execution_count": 743,
   "metadata": {},
   "outputs": [
    {
     "name": "stdout",
     "output_type": "stream",
     "text": [
      "437\n"
     ]
    }
   ],
   "source": [
    "# read the STRING dataset \n",
    "with open(\"C:/Users/Hp/Desktop/Data Science/Third Semester/Bioligical Data/Project/BiologicalData-master/datasets/NEW_STRING_dataset.txt\") as f:\n",
    "    dataset = f.read().splitlines()\n",
    "print(len(dataset))"
   ]
  },
  {
   "cell_type": "code",
   "execution_count": 744,
   "metadata": {},
   "outputs": [],
   "source": [
    "# Get Background dataset from uniprot\n",
    "import requests\n",
    "URL = \"https://www.uniprot.org\"\n",
    "# Get human proteins available in STRING and Swissprot\n",
    "query = \"database:(type:string) AND reviewed:yes AND organism:\\\"Homo sapiens (Human) [9606]\\\"&format=list\"\n",
    "bg = requests.get(\"{}/uniprot/?query={}\".format(URL, query))"
   ]
  },
  {
   "cell_type": "code",
   "execution_count": 745,
   "metadata": {},
   "outputs": [
    {
     "name": "stdout",
     "output_type": "stream",
     "text": [
      "18561\n"
     ]
    }
   ],
   "source": [
    "bg_dataset = bg.text.strip().split(\"\\n\")\n",
    "print(len(bg_dataset))"
   ]
  },
  {
   "cell_type": "code",
   "execution_count": 746,
   "metadata": {},
   "outputs": [
    {
     "data": {
      "text/html": [
       "<div>\n",
       "<style scoped>\n",
       "    .dataframe tbody tr th:only-of-type {\n",
       "        vertical-align: middle;\n",
       "    }\n",
       "\n",
       "    .dataframe tbody tr th {\n",
       "        vertical-align: top;\n",
       "    }\n",
       "\n",
       "    .dataframe thead th {\n",
       "        text-align: right;\n",
       "    }\n",
       "</style>\n",
       "<table border=\"1\" class=\"dataframe\">\n",
       "  <thead>\n",
       "    <tr style=\"text-align: right;\">\n",
       "      <th></th>\n",
       "      <th>OddRatio</th>\n",
       "      <th>pvalue</th>\n",
       "      <th>depth</th>\n",
       "      <th>label</th>\n",
       "    </tr>\n",
       "  </thead>\n",
       "  <tbody>\n",
       "    <tr>\n",
       "      <th>0050678</th>\n",
       "      <td>28.735892</td>\n",
       "      <td>0.000009</td>\n",
       "      <td>5</td>\n",
       "      <td>Blau syndrome</td>\n",
       "    </tr>\n",
       "    <tr>\n",
       "      <th>13619</th>\n",
       "      <td>28.724157</td>\n",
       "      <td>0.006493</td>\n",
       "      <td>7</td>\n",
       "      <td>extrahepatic cholestasis</td>\n",
       "    </tr>\n",
       "    <tr>\n",
       "      <th>0060082</th>\n",
       "      <td>28.720248</td>\n",
       "      <td>0.066171</td>\n",
       "      <td>5</td>\n",
       "      <td>breast benign neoplasm</td>\n",
       "    </tr>\n",
       "    <tr>\n",
       "      <th>4556</th>\n",
       "      <td>28.720248</td>\n",
       "      <td>0.066171</td>\n",
       "      <td>8</td>\n",
       "      <td>lung large cell carcinoma</td>\n",
       "    </tr>\n",
       "    <tr>\n",
       "      <th>0110368</th>\n",
       "      <td>28.720248</td>\n",
       "      <td>0.066171</td>\n",
       "      <td>9</td>\n",
       "      <td>retinitis pigmentosa 26</td>\n",
       "    </tr>\n",
       "  </tbody>\n",
       "</table>\n",
       "</div>"
      ],
      "text/plain": [
       "          OddRatio    pvalue  depth                      label\n",
       "0050678  28.735892  0.000009      5              Blau syndrome\n",
       "13619    28.724157  0.006493      7   extrahepatic cholestasis\n",
       "0060082  28.720248  0.066171      5     breast benign neoplasm\n",
       "4556     28.720248  0.066171      8  lung large cell carcinoma\n",
       "0110368  28.720248  0.066171      9    retinitis pigmentosa 26"
      ]
     },
     "execution_count": 746,
     "metadata": {},
     "output_type": "execute_result"
    }
   ],
   "source": [
    "# count the anchestors for each sequence of the dataset\n",
    "dataset_c = count_ancestors(dataset, ancestors, uniprot_protein)\n",
    "background_c = count_ancestors(bg_dataset, ancestors, uniprot_protein)\n",
    "result_fisher = do_fisher_test(dataset_c, background_c, min_depth, labels)\n",
    "result_fisher.sort_values(by = \"OddRatio\", ascending=False, inplace=True)\n",
    "\n",
    "# add depth and description columns\n",
    "result = depth_details(df = result_fisher,min_depth = min_depth, labels = labels)\n",
    "result.head()"
   ]
  },
  {
   "cell_type": "code",
   "execution_count": 747,
   "metadata": {},
   "outputs": [
    {
     "name": "stdout",
     "output_type": "stream",
     "text": [
      "<class 'pandas.core.frame.DataFrame'>\n",
      "Index: 78 entries, 0050678 to 0050460\n",
      "Data columns (total 4 columns):\n",
      "OddRatio    78 non-null float64\n",
      "pvalue      78 non-null float64\n",
      "depth       78 non-null int64\n",
      "label       78 non-null object\n",
      "dtypes: float64(2), int64(1), object(1)\n",
      "memory usage: 3.0+ KB\n"
     ]
    }
   ],
   "source": [
    "# filter by depth\n",
    "filter_terms = (result[\"depth\"] <= 6) & (result_fisher[\"pvalue\"] <= 0.05)\n",
    "result[filter_terms].info()"
   ]
  },
  {
   "cell_type": "code",
   "execution_count": 748,
   "metadata": {},
   "outputs": [
    {
     "data": {
      "image/png": "[encoded data removed]",
      "text/plain": [
       "<Figure size 1080x1080 with 1 Axes>"
      ]
     },
     "metadata": {
      "needs_background": "light"
     },
     "output_type": "display_data"
    }
   ],
   "source": [
    "N_max = 50\n",
    "word_c=draw_word_cloud(df = result[filter_terms],N = N,score = 'OddRatio',scale = 1,)\n",
    "plt.figure(figsize=(15,15))\n",
    "plt.imshow(word_c)\n",
    "plt.axis(\"off\")\n",
    "plt.show()"
   ]
  },
  {
   "cell_type": "code",
   "execution_count": null,
   "metadata": {},
   "outputs": [],
   "source": []
  }
 ],
 "metadata": {
  "kernelspec": {
   "display_name": "Python 3",
   "language": "python",
   "name": "python3"
  },
  "language_info": {
   "codemirror_mode": {
    "name": "ipython",
    "version": 3
   },
   "file_extension": ".py",
   "mimetype": "text/x-python",
   "name": "python",
   "nbconvert_exporter": "python",
   "pygments_lexer": "ipython3",
   "version": "3.7.3"
  }
 },
 "nbformat": 4,
 "nbformat_minor": 2
}
