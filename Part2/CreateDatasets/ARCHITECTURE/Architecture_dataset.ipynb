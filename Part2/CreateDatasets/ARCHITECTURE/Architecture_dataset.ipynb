{
 "cells": [
  {
   "cell_type": "code",
   "execution_count": 27,
   "metadata": {},
   "outputs": [],
   "source": [
    "#####################\n",
    "# other functions for architecture datasets (it returns a dict) (input = GO_human_ds)\n",
    "# these two functions work for human_ds and for GO_human_ds too (must change just the column name of filtered data)\n",
    "import numpy as np\n",
    "def retrieve_domains(protein,data):\n",
    "    filtered_data = data[data['Entry'] == protein]\n",
    "    if type(filtered_data['Pfam_domains'].values[0]) == np.float:\n",
    "        return None\n",
    "    else:\n",
    "        return [c for c in filtered_data['Pfam_domains'].values[0].split(';') if len(c) > 1]\n",
    "\n",
    "\n",
    "def create_architecture_dataset(proteins, data):\n",
    "    architecture_dataset = {}\n",
    "    for protein in proteins:\n",
    "        dom = ''\n",
    "        if retrieve_domains(protein,data) != None:\n",
    "            domains = set(retrieve_domains(protein,data))\n",
    "        \n",
    "            for d in domains:\n",
    "                dom += d+';'\n",
    "            if len(dom) > 1:\n",
    "                if dom not in architecture_dataset.keys():\n",
    "                    architecture_dataset[dom] = [protein]\n",
    "                else:\n",
    "                    architecture_dataset[dom].append(protein)\n",
    "    return architecture_dataset\n",
    "\n"
   ]
  },
  {
   "cell_type": "code",
   "execution_count": 7,
   "metadata": {},
   "outputs": [],
   "source": [
    "import pandas as pd\n",
    "with open('Original_dataset.txt','r') as o:\n",
    "    original_dataset = pd.read_csv(o, header = None)\n",
    "original_proteins = set(original_dataset[0])\n",
    "\n",
    "with open('GO_human_dataset','r') as o:\n",
    "    human_GO_ds = pd.read_csv(o, index_col=0)"
   ]
  },
  {
   "cell_type": "code",
   "execution_count": 29,
   "metadata": {},
   "outputs": [
    {
     "data": {
      "text/html": [
       "<div>\n",
       "<style scoped>\n",
       "    .dataframe tbody tr th:only-of-type {\n",
       "        vertical-align: middle;\n",
       "    }\n",
       "\n",
       "    .dataframe tbody tr th {\n",
       "        vertical-align: top;\n",
       "    }\n",
       "\n",
       "    .dataframe thead th {\n",
       "        text-align: right;\n",
       "    }\n",
       "</style>\n",
       "<table border=\"1\" class=\"dataframe\">\n",
       "  <thead>\n",
       "    <tr style=\"text-align: right;\">\n",
       "      <th></th>\n",
       "      <th>Entry</th>\n",
       "      <th>GO_id</th>\n",
       "      <th>Go_description</th>\n",
       "      <th>Length</th>\n",
       "      <th>Pfam_domains</th>\n",
       "    </tr>\n",
       "  </thead>\n",
       "  <tbody>\n",
       "    <tr>\n",
       "      <th>0</th>\n",
       "      <td>Q8TE23</td>\n",
       "      <td>16021.0</td>\n",
       "      <td>integral component of membrane</td>\n",
       "      <td>839</td>\n",
       "      <td>PF00003;PF01094;PF07562;</td>\n",
       "    </tr>\n",
       "    <tr>\n",
       "      <th>1</th>\n",
       "      <td>Q8TE23</td>\n",
       "      <td>5887.0</td>\n",
       "      <td>integral component of plasma membrane</td>\n",
       "      <td>839</td>\n",
       "      <td>PF00003;PF01094;PF07562;</td>\n",
       "    </tr>\n",
       "    <tr>\n",
       "      <th>2</th>\n",
       "      <td>Q8TE23</td>\n",
       "      <td>5886.0</td>\n",
       "      <td>plasma membrane</td>\n",
       "      <td>839</td>\n",
       "      <td>PF00003;PF01094;PF07562;</td>\n",
       "    </tr>\n",
       "    <tr>\n",
       "      <th>3</th>\n",
       "      <td>Q8TE23</td>\n",
       "      <td>43235.0</td>\n",
       "      <td>receptor complex</td>\n",
       "      <td>839</td>\n",
       "      <td>PF00003;PF01094;PF07562;</td>\n",
       "    </tr>\n",
       "    <tr>\n",
       "      <th>4</th>\n",
       "      <td>Q8TE23</td>\n",
       "      <td>1903767.0</td>\n",
       "      <td>sweet taste receptor complex</td>\n",
       "      <td>839</td>\n",
       "      <td>PF00003;PF01094;PF07562;</td>\n",
       "    </tr>\n",
       "  </tbody>\n",
       "</table>\n",
       "</div>"
      ],
      "text/plain": [
       "    Entry      GO_id                           Go_description  Length  \\\n",
       "0  Q8TE23    16021.0          integral component of membrane      839   \n",
       "1  Q8TE23     5887.0   integral component of plasma membrane      839   \n",
       "2  Q8TE23     5886.0                         plasma membrane      839   \n",
       "3  Q8TE23    43235.0                        receptor complex      839   \n",
       "4  Q8TE23  1903767.0            sweet taste receptor complex      839   \n",
       "\n",
       "               Pfam_domains  \n",
       "0  PF00003;PF01094;PF07562;  \n",
       "1  PF00003;PF01094;PF07562;  \n",
       "2  PF00003;PF01094;PF07562;  \n",
       "3  PF00003;PF01094;PF07562;  \n",
       "4  PF00003;PF01094;PF07562;  "
      ]
     },
     "execution_count": 29,
     "metadata": {},
     "output_type": "execute_result"
    }
   ],
   "source": [
    "human_GO_ds.head()"
   ]
  },
  {
   "cell_type": "code",
   "execution_count": 31,
   "metadata": {},
   "outputs": [],
   "source": [
    "# there is a protein with no Pfam domains\n",
    "# human_GO_ds[human_GO_ds['Entry'] == 'Q9ULD6']\n",
    "import pickle as pkl"
   ]
  },
  {
   "cell_type": "code",
   "execution_count": 36,
   "metadata": {},
   "outputs": [],
   "source": [
    "arch_ds = create_architecture_dataset(original_proteins, human_GO_ds)"
   ]
  },
  {
   "cell_type": "code",
   "execution_count": 37,
   "metadata": {},
   "outputs": [],
   "source": [
    "with open('architecture_datasets.pkl','wb') as o:\n",
    "    pkl.dump(arch_ds,o)"
   ]
  }
 ],
 "metadata": {
  "kernelspec": {
   "display_name": "Python 3",
   "language": "python",
   "name": "python3"
  },
  "language_info": {
   "codemirror_mode": {
    "name": "ipython",
    "version": 3
   },
   "file_extension": ".py",
   "mimetype": "text/x-python",
   "name": "python",
   "nbconvert_exporter": "python",
   "pygments_lexer": "ipython3",
   "version": "3.7.5"
  }
 },
 "nbformat": 4,
 "nbformat_minor": 4
}
